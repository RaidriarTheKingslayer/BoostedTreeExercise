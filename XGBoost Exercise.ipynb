{
 "cells": [
  {
   "cell_type": "code",
   "execution_count": 1,
   "id": "62931167-f3c2-4a7b-8101-1ea6f6ab4855",
   "metadata": {},
   "outputs": [
    {
     "name": "stdout",
     "output_type": "stream",
     "text": [
      "\n",
      "XGBoost Model:\n",
      "Accuracy: 97.98%\n",
      "Confusion Matrix:\n",
      "[[235   0   0   0]\n",
      " [  0  79   4   0]\n",
      " [  0   0  11   0]\n",
      " [  0   1   2  14]]\n",
      "Classification Report:\n",
      "              precision    recall  f1-score   support\n",
      "\n",
      "           0       1.00      1.00      1.00       235\n",
      "           1       0.99      0.95      0.97        83\n",
      "           2       0.65      1.00      0.79        11\n",
      "           3       1.00      0.82      0.90        17\n",
      "\n",
      "    accuracy                           0.98       346\n",
      "   macro avg       0.91      0.94      0.91       346\n",
      "weighted avg       0.99      0.98      0.98       346\n",
      "\n"
     ]
    }
   ],
   "source": [
    "import pandas as pd\n",
    "from sklearn.model_selection import train_test_split\n",
    "from xgboost import XGBClassifier\n",
    "from sklearn.metrics import accuracy_score, confusion_matrix, classification_report\n",
    "\n",
    "\n",
    "file_path_csv = \"car_evaluation.csv\"  \n",
    "car_df = pd.read_csv(file_path_csv)\n",
    "\n",
    "\n",
    "cat_features = [\"buying\", \"maint\", \"doors\", \"persons\", \"lug_boot\", \"safety\"]\n",
    "for feature in cat_features:\n",
    "    car_df[feature] = car_df[feature].astype(\"category\").cat.codes\n",
    "\n",
    "class_mapping = {\"unacc\": 0, \"acc\": 1, \"good\": 2, \"vgood\": 3}\n",
    "car_df[\"class\"] = car_df[\"class\"].map(class_mapping)\n",
    "\n",
    "\n",
    "X = car_df.drop(\"class\", axis=1)\n",
    "y = car_df[\"class\"]\n",
    "\n",
    "\n",
    "X_train, X_test, y_train, y_test = train_test_split(X, y, test_size=0.2, random_state=42)\n",
    "\n",
    "\n",
    "xgboost_model = XGBClassifier(objective='multi:softmax', num_class=len(class_mapping))\n",
    "xgboost_model.fit(X_train, y_train)\n",
    "\n",
    "\n",
    "y_pred_xgboost = xgboost_model.predict(X_test)\n",
    "\n",
    "\n",
    "accuracy_xgboost = accuracy_score(y_test, y_pred_xgboost)\n",
    "conf_matrix_xgboost = confusion_matrix(y_test, y_pred_xgboost)\n",
    "classification_rep_xgboost = classification_report(y_test, y_pred_xgboost)\n",
    "\n",
    "\n",
    "print(\"\\nXGBoost Model:\")\n",
    "print(f\"Accuracy: {accuracy_xgboost * 100:.2f}%\")\n",
    "print(\"Confusion Matrix:\")\n",
    "print(conf_matrix_xgboost)\n",
    "print(\"Classification Report:\")\n",
    "print(classification_rep_xgboost)\n"
   ]
  },
  {
   "cell_type": "code",
   "execution_count": null,
   "id": "ea93373d-3323-4502-bb62-8e42fe5411ac",
   "metadata": {},
   "outputs": [],
   "source": []
  }
 ],
 "metadata": {
  "kernelspec": {
   "display_name": "Python 3 (ipykernel)",
   "language": "python",
   "name": "python3"
  },
  "language_info": {
   "codemirror_mode": {
    "name": "ipython",
    "version": 3
   },
   "file_extension": ".py",
   "mimetype": "text/x-python",
   "name": "python",
   "nbconvert_exporter": "python",
   "pygments_lexer": "ipython3",
   "version": "3.11.5"
  }
 },
 "nbformat": 4,
 "nbformat_minor": 5
}
